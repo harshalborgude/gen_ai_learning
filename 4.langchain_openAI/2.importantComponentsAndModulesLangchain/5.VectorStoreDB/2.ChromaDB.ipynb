{
 "cells": [
  {
   "cell_type": "markdown",
   "metadata": {},
   "source": [
    "## Chroma DB\n",
    "\n",
    "- Chroma is an AI-native open source vector database focused on developer productivity and happiness. Chroma is licensed under apache 2.0\n",
    "- Need to install \"chroma DB\""
   ]
  },
  {
   "cell_type": "code",
   "execution_count": 18,
   "metadata": {},
   "outputs": [],
   "source": [
    "## Building a sample vector DB\n",
    "## With langchain_chroma installation , no need to install chromaDB now separately\n",
    "\n",
    "from langchain_chroma import Chroma\n",
    "from langchain_community.document_loaders import TextLoader\n",
    "from langchain_community.embeddings import OllamaEmbeddings\n",
    "from langchain_text_splitters import RecursiveCharacterTextSplitter"
   ]
  },
  {
   "cell_type": "code",
   "execution_count": 19,
   "metadata": {},
   "outputs": [
    {
     "data": {
      "text/plain": [
       "[Document(metadata={'source': 'speech.txt'}, page_content='\"The moonlight danced across the rippling water, casting silver shadows.\"\\n\"A forgotten book lay dust-covered on the attic shelf.\"\\n\"In the quiet of the forest, every sound seemed magnified.\"\\n\"She wore a smile like a secret, hinting at mysteries untold.\"\\n\"The scent of fresh bread filled the air as the bakery opened.\"\\n\"He found solace in the rhythmic ticking of the old grandfather clock.\"\\n\"The city streets buzzed with the hum of a thousand stories waiting to be told.\"\\n\"Among the stars, dreams seemed to shimmer just a little brighter.\"\\n\"An old photograph slipped from the pages of a long-abandoned journal.\"\\n\"The train whistle echoed through the valley, a distant call to adventure.\"')]"
      ]
     },
     "execution_count": 19,
     "metadata": {},
     "output_type": "execute_result"
    }
   ],
   "source": [
    "loader = TextLoader(\"speech.txt\")\n",
    "data = loader.load()\n",
    "data"
   ]
  },
  {
   "cell_type": "code",
   "execution_count": 20,
   "metadata": {},
   "outputs": [
    {
     "data": {
      "text/plain": [
       "[Document(metadata={'source': 'speech.txt'}, page_content='\"The moonlight danced across the rippling water, casting silver shadows.\"'),\n",
       " Document(metadata={'source': 'speech.txt'}, page_content='\"A forgotten book lay dust-covered on the attic shelf.\"'),\n",
       " Document(metadata={'source': 'speech.txt'}, page_content='\"In the quiet of the forest, every sound seemed magnified.\"'),\n",
       " Document(metadata={'source': 'speech.txt'}, page_content='\"She wore a smile like a secret, hinting at mysteries untold.\"'),\n",
       " Document(metadata={'source': 'speech.txt'}, page_content='\"The scent of fresh bread filled the air as the bakery opened.\"'),\n",
       " Document(metadata={'source': 'speech.txt'}, page_content='\"He found solace in the rhythmic ticking of the old grandfather clock.\"'),\n",
       " Document(metadata={'source': 'speech.txt'}, page_content='\"The city streets buzzed with the hum of a thousand stories waiting to be told.\"'),\n",
       " Document(metadata={'source': 'speech.txt'}, page_content='\"Among the stars, dreams seemed to shimmer just a little brighter.\"'),\n",
       " Document(metadata={'source': 'speech.txt'}, page_content='\"An old photograph slipped from the pages of a long-abandoned journal.\"'),\n",
       " Document(metadata={'source': 'speech.txt'}, page_content='\"The train whistle echoed through the valley, a distant call to adventure.\"')]"
      ]
     },
     "execution_count": 20,
     "metadata": {},
     "output_type": "execute_result"
    }
   ],
   "source": [
    "text_splitter = RecursiveCharacterTextSplitter(chunk_size=100 , chunk_overlap=0)\n",
    "splits = text_splitter.split_documents(data)\n",
    "splits\n"
   ]
  },
  {
   "cell_type": "code",
   "execution_count": 21,
   "metadata": {},
   "outputs": [
    {
     "data": {
      "text/plain": [
       "<langchain_chroma.vectorstores.Chroma at 0x1d3adce90a0>"
      ]
     },
     "execution_count": 21,
     "metadata": {},
     "output_type": "execute_result"
    }
   ],
   "source": [
    "embeddings = OllamaEmbeddings()\n",
    "vectordb = Chroma.from_documents(documents=splits,embedding=embeddings)\n",
    "vectordb"
   ]
  },
  {
   "cell_type": "code",
   "execution_count": 22,
   "metadata": {},
   "outputs": [
    {
     "data": {
      "text/plain": [
       "'\"Among the stars, dreams seemed to shimmer just a little brighter.\"'"
      ]
     },
     "execution_count": 22,
     "metadata": {},
     "output_type": "execute_result"
    }
   ],
   "source": [
    "## Query from Chroma vectorstore DB \n",
    "\n",
    "query = \"what happened with photograph?\"\n",
    "docs = vectordb.similarity_search(query=query)\n",
    "docs[0].page_content"
   ]
  },
  {
   "cell_type": "code",
   "execution_count": 23,
   "metadata": {},
   "outputs": [],
   "source": [
    "## Saving DB to disk\n",
    "## Provide persist_directory parameter with location to store DB \n",
    "\n",
    "vectordb = Chroma.from_documents(documents=splits,embedding=embeddings,persist_directory=\"./chroma_db\")\n"
   ]
  },
  {
   "cell_type": "code",
   "execution_count": 24,
   "metadata": {},
   "outputs": [
    {
     "data": {
      "text/plain": [
       "'\"Among the stars, dreams seemed to shimmer just a little brighter.\"'"
      ]
     },
     "execution_count": 24,
     "metadata": {},
     "output_type": "execute_result"
    }
   ],
   "source": [
    "## Load from DIsk and query\n",
    "db2 = Chroma(persist_directory=\"./chroma_db\",embedding_function=embeddings)\n",
    "docs = db2.similarity_search(query=query)\n",
    "docs[0].page_content"
   ]
  },
  {
   "cell_type": "code",
   "execution_count": 25,
   "metadata": {},
   "outputs": [
    {
     "data": {
      "text/plain": [
       "[(Document(metadata={'source': 'speech.txt'}, page_content='\"Among the stars, dreams seemed to shimmer just a little brighter.\"'),\n",
       "  9332.266779786962),\n",
       " (Document(metadata={'source': 'speech.txt'}, page_content='\"Among the stars, dreams seemed to shimmer just a little brighter.\"'),\n",
       "  9332.266779786962),\n",
       " (Document(metadata={'source': 'speech.txt'}, page_content='\"Among the stars, dreams seemed to shimmer just a little brighter.\"'),\n",
       "  9332.266779786962),\n",
       " (Document(metadata={'source': 'speech.txt'}, page_content='\"A forgotten book lay dust-covered on the attic shelf.\"'),\n",
       "  10191.86555179553)]"
      ]
     },
     "execution_count": 25,
     "metadata": {},
     "output_type": "execute_result"
    }
   ],
   "source": [
    "## To Get similarity scrore by manhatten distance \n",
    "\n",
    "docs = db2.similarity_search_with_score(query)\n",
    "docs"
   ]
  },
  {
   "cell_type": "code",
   "execution_count": 26,
   "metadata": {},
   "outputs": [
    {
     "data": {
      "text/plain": [
       "Document(metadata={'source': 'speech.txt'}, page_content='\"Among the stars, dreams seemed to shimmer just a little brighter.\"')"
      ]
     },
     "execution_count": 26,
     "metadata": {},
     "output_type": "execute_result"
    }
   ],
   "source": [
    "### Retriever Options \n",
    "\n",
    "retriever = vectordb.as_retriever()\n",
    "retriever.invoke(query)[0]\n"
   ]
  },
  {
   "cell_type": "code",
   "execution_count": null,
   "metadata": {},
   "outputs": [],
   "source": []
  }
 ],
 "metadata": {
  "kernelspec": {
   "display_name": "Python 3",
   "language": "python",
   "name": "python3"
  },
  "language_info": {
   "codemirror_mode": {
    "name": "ipython",
    "version": 3
   },
   "file_extension": ".py",
   "mimetype": "text/x-python",
   "name": "python",
   "nbconvert_exporter": "python",
   "pygments_lexer": "ipython3",
   "version": "3.12.4"
  }
 },
 "nbformat": 4,
 "nbformat_minor": 2
}
