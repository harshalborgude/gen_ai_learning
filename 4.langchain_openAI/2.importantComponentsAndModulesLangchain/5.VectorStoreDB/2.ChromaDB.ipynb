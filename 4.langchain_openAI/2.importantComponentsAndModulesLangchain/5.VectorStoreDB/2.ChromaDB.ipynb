{
 "cells": [
  {
   "cell_type": "markdown",
   "metadata": {},
   "source": [
    "## Chroma DB\n",
    "\n",
    "- Chroma is an AI-native open source vector database focused on developer productivity and happiness. Chroma is licensed under apache 2.0\n",
    "- Need to install \"chroma DB\""
   ]
  },
  {
   "cell_type": "code",
   "execution_count": null,
   "metadata": {},
   "outputs": [],
   "source": []
  }
 ],
 "metadata": {
  "kernelspec": {
   "display_name": "Python 3",
   "language": "python",
   "name": "python3"
  },
  "language_info": {
   "name": "python",
   "version": "3.12.4"
  }
 },
 "nbformat": 4,
 "nbformat_minor": 2
}
