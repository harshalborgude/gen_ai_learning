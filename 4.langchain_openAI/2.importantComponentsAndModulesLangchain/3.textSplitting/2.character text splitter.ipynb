{
 "cells": [
  {
   "cell_type": "markdown",
   "metadata": {},
   "source": [
    "### 2) character-Character Text Splitter\n",
    "This is the simplest method. This splits based on a given character sequence, which defaults to \"\\n\\n\". Chunk length is measured by number of characters.\n",
    "\n",
    "1. How the text is split: by single character separator.\n",
    "2. How the chunk size is measured: by number of characters.\n"
   ]
  },
  {
   "cell_type": "code",
   "execution_count": 1,
   "metadata": {},
   "outputs": [
    {
     "data": {
      "text/plain": [
       "[Document(metadata={'source': '../2.DataIngestion/2.speech.txt'}, page_content='\"The moonlight danced across the rippling water, casting silver shadows.\"\\n\"A forgotten book lay dust-covered on the attic shelf.\"\\n\"In the quiet of the forest, every sound seemed magnified.\"\\n\"She wore a smile like a secret, hinting at mysteries untold.\"\\n\"The scent of fresh bread filled the air as the bakery opened.\"\\n\"He found solace in the rhythmic ticking of the old grandfather clock.\"\\n\"The city streets buzzed with the hum of a thousand stories waiting to be told.\"\\n\"Among the stars, dreams seemed to shimmer just a little brighter.\"\\n\"An old photograph slipped from the pages of a long-abandoned journal.\"\\n\"The train whistle echoed through the valley, a distant call to adventure.\"')]"
      ]
     },
     "execution_count": 1,
     "metadata": {},
     "output_type": "execute_result"
    }
   ],
   "source": [
    "from langchain_community.document_loaders import TextLoader\n",
    "loader = TextLoader(\"../2.DataIngestion/2.speech.txt\")\n",
    "docs = loader.load()\n",
    "docs"
   ]
  },
  {
   "cell_type": "code",
   "execution_count": 7,
   "metadata": {},
   "outputs": [
    {
     "name": "stdout",
     "output_type": "stream",
     "text": [
      "[Document(metadata={'source': '../2.DataIngestion/2.speech.txt'}, page_content='\"The moonlight danced across the rippling water, casting silver shadows.\"\\n\"A forgotten book lay dust-covered on the attic shelf.\"\\n\"In the quiet of the forest, every sound seemed magnified.\"\\n\"She wore a smile like a secret, hinting at mysteries untold.\"\\n\"The scent of fresh bread filled the air as the bakery opened.\"\\n\"He found solace in the rhythmic ticking of the old grandfather clock.\"\\n\"The city streets buzzed with the hum of a thousand stories waiting to be told.\"\\n\"Among the stars, dreams seemed to shimmer just a little brighter.\"\\n\"An old photograph slipped from the pages of a long-abandoned journal.\"\\n\"The train whistle echoed through the valley, a distant call to adventure.\"')]\n"
     ]
    }
   ],
   "source": [
    "from langchain_text_splitters import CharacterTextSplitter\n",
    "text_splitter = CharacterTextSplitter(separator=\"\\n\\n\", chunk_size=100 , chunk_overlap=20)\n",
    "text = text_splitter.split_documents(docs)\n",
    "print(text)\n"
   ]
  },
  {
   "cell_type": "code",
   "execution_count": 6,
   "metadata": {},
   "outputs": [
    {
     "name": "stdout",
     "output_type": "stream",
     "text": [
      "[Document(page_content='\"The moonlight danced across the rippling water, casting silver shadows.\"\\n\"A forgotten book lay dust-covered on the attic shelf.\"\\n\"In the quiet of the forest, every sound seemed magnified.\"\\n\"She wore a smile like a secret, hinting at mysteries untold.\"\\n\"The scent of fresh bread filled the air as the bakery opened.\"\\n\"He found solace in the rhythmic ticking of the old grandfather clock.\"\\n\"The city streets buzzed with the hum of a thousand stories waiting to be told.\"\\n\"Among the stars, dreams seemed to shimmer just a little brighter.\"\\n\"An old photograph slipped from the pages of a long-abandoned journal.\"\\n\"The train whistle echoed through the valley, a distant call to adventure.\"')]\n"
     ]
    }
   ],
   "source": [
    "speech = \"\"\n",
    "with open(\"../2.DataIngestion/2.speech.txt\") as f :\n",
    "    speech = f.read()\n",
    "\n",
    "text_splitter = CharacterTextSplitter(separator=\"\\n\\n\", chunk_size=100 , chunk_overlap=20)\n",
    "text = text_splitter.create_documents([speech])\n",
    "print(text)\n",
    "\n",
    "\n"
   ]
  }
 ],
 "metadata": {
  "kernelspec": {
   "display_name": "Python 3",
   "language": "python",
   "name": "python3"
  },
  "language_info": {
   "codemirror_mode": {
    "name": "ipython",
    "version": 3
   },
   "file_extension": ".py",
   "mimetype": "text/x-python",
   "name": "python",
   "nbconvert_exporter": "python",
   "pygments_lexer": "ipython3",
   "version": "3.12.4"
  }
 },
 "nbformat": 4,
 "nbformat_minor": 2
}
